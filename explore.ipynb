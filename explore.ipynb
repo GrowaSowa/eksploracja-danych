{
 "cells": [
  {
   "cell_type": "code",
   "execution_count": null,
   "id": "9864b5b6",
   "metadata": {},
   "outputs": [],
   "source": [
    "from src.utils.load_data import *\n",
    "from src.utils.processing import *\n",
    "from sklearn.naive_bayes import GaussianNB\n",
    "# import asyncio\n",
    "\n",
    "N = 800\n",
    "N_UNIGRAMS = 3000\n",
    "\n",
    "data = await load_reviews(N)\n",
    "# # print(data['positive'][0])\n",
    "\n",
    "# download_stopwords()\n",
    "# download_lemmatizer()\n",
    "\n",
    "split_data = split_unigrams(data)\n",
    "# print(split_data['positive'][0])\n",
    "\n",
    "set_data = get_unigram_sets(split_data)\n",
    "# print(set_data['positive'][0])\n",
    "\n",
    "top_u = get_top_unigrams(N_UNIGRAMS, split_data)\n",
    "# print(top_u[:5])\n",
    "# print(top_u[-5:])\n",
    "\n",
    "mtx = get_unigram_presence_matrices(set_data, top_u)\n",
    "# print(mtx['positive'][0])"
   ]
  },
  {
   "cell_type": "code",
   "execution_count": 2,
   "id": "b62802d0",
   "metadata": {},
   "outputs": [
    {
     "name": "stdout",
     "output_type": "stream",
     "text": [
      "Accuracy: 75.25% 301/400\n"
     ]
    }
   ],
   "source": [
    "import pandas as pd\n",
    "\n",
    "TRAIN_SIZE = N*3//4\n",
    "TEST_SIZE = N//4\n",
    "\n",
    "x_train = mtx['positive'][:TRAIN_SIZE]\n",
    "x_train.extend(mtx['negative'][:TRAIN_SIZE])\n",
    "y_train = [1 if i < TRAIN_SIZE else 0 for i in range(TRAIN_SIZE*2)]\n",
    "# print(x_train[0])\n",
    "\n",
    "x_test = mtx['positive'][TRAIN_SIZE : TRAIN_SIZE+TEST_SIZE]\n",
    "x_test.extend(mtx['negative'][TRAIN_SIZE : TRAIN_SIZE+TEST_SIZE])\n",
    "y_test = [1 if i < TEST_SIZE else 0 for i in range(TEST_SIZE*2)]\n",
    "\n",
    "x_train = pd.DataFrame(x_train)\n",
    "y_train = np.array(y_train)\n",
    "# print(x_train.shape)\n",
    "# print(y_train.shape)\n",
    "\n",
    "x_test = pd.DataFrame(x_test)\n",
    "y_test = np.array(y_test)\n",
    "\n",
    "nb = GaussianNB()\n",
    "nb.fit(x_train, y_train)\n",
    "y_pred = nb.predict(x_test)\n",
    "n_correct = (y_test == y_pred).sum()\n",
    "print(f'Accuracy: {n_correct*100/x_test.shape[0]}% {n_correct}/{x_test.shape[0]}')"
   ]
  }
 ],
 "metadata": {
  "kernelspec": {
   "display_name": "Python 3",
   "language": "python",
   "name": "python3"
  },
  "language_info": {
   "codemirror_mode": {
    "name": "ipython",
    "version": 3
   },
   "file_extension": ".py",
   "mimetype": "text/x-python",
   "name": "python",
   "nbconvert_exporter": "python",
   "pygments_lexer": "ipython3",
   "version": "3.10.6"
  }
 },
 "nbformat": 4,
 "nbformat_minor": 5
}
