{
 "cells": [
  {
   "cell_type": "code",
   "execution_count": 1,
   "id": "9864b5b6",
   "metadata": {},
   "outputs": [],
   "source": [
    "from src.utils.load_data import *\n",
    "\n",
    "N = 1200\n",
    "N_UNIGRAMS = 3000\n",
    "\n",
    "TRAIN_SIZE = N*3//4\n",
    "TEST_SIZE = N//4\n",
    "\n",
    "data = await load_reviews(TRAIN_SIZE, TEST_SIZE)\n",
    "# # print(data['positive'][0])\n",
    "\n",
    "# download_stopwords()\n",
    "# download_lemmatizer()\n"
   ]
  },
  {
   "cell_type": "code",
   "execution_count": 2,
   "id": "f8c94c86",
   "metadata": {},
   "outputs": [],
   "source": [
    "from src.utils.processing import *\n",
    "\n",
    "split_data = split_unigrams(data)\n",
    "# print(split_data['positive'][0])\n",
    "\n",
    "set_data = get_unigram_sets(split_data)\n",
    "# print(set_data['positive'][0])\n",
    "\n",
    "top_u = get_top_unigrams(N_UNIGRAMS, split_data)\n",
    "# print(top_u[:5])\n",
    "# print(top_u[-5:])\n",
    "\n",
    "mtx = get_unigram_presence_matrices(set_data, top_u)\n",
    "# print(mtx['positive'][0])"
   ]
  },
  {
   "cell_type": "code",
   "execution_count": null,
   "id": "b62802d0",
   "metadata": {},
   "outputs": [
    {
     "name": "stdout",
     "output_type": "stream",
     "text": [
      "(1800, 3000)\n",
      "(1800,)\n",
      "(600, 3000)\n",
      "(600,)\n"
     ]
    }
   ],
   "source": [
    "import numpy as np\n",
    "\n",
    "x_train = np.concatenate([mtx['positive_train'], mtx['negative_train']])\n",
    "y_train = np.concatenate([np.ones(TRAIN_SIZE), np.zeros(TRAIN_SIZE)])\n",
    "\n",
    "x_test = np.concatenate([mtx['positive_test'], mtx['negative_test']])\n",
    "y_test = np.concatenate([np.ones(TEST_SIZE), np.zeros(TEST_SIZE)])\n",
    "\n",
    "# print(x_train.shape)\n",
    "# print(y_train.shape)\n",
    "# print(x_test.shape)\n",
    "# print(y_test.shape)"
   ]
  },
  {
   "cell_type": "code",
   "execution_count": 4,
   "id": "1af90703",
   "metadata": {},
   "outputs": [
    {
     "name": "stdout",
     "output_type": "stream",
     "text": [
      "NaiveBayes accuracy: 76.33333333333333% 458/600\n",
      "SVM accuracy: 85.5% 513/600\n"
     ]
    }
   ],
   "source": [
    "from sklearn.naive_bayes import GaussianNB\n",
    "from sklearn import svm\n",
    "\n",
    "nb = GaussianNB()\n",
    "nb.fit(x_train, y_train)\n",
    "y_pred = nb.predict(x_test)\n",
    "n_correct = (y_test == y_pred).sum()\n",
    "print(f'NaiveBayes accuracy: {n_correct*100/x_test.shape[0]}% {n_correct}/{x_test.shape[0]}')\n",
    "\n",
    "clf = svm.SVC()\n",
    "clf.fit(x_train, y_train)\n",
    "y_pred = clf.predict(x_test)\n",
    "n_correct = (y_test == y_pred).sum()\n",
    "print(f\"SVM accuracy: {n_correct*100/x_test.shape[0]}% {n_correct}/{x_test.shape[0]}\")"
   ]
  }
 ],
 "metadata": {
  "kernelspec": {
   "display_name": "Python 3",
   "language": "python",
   "name": "python3"
  },
  "language_info": {
   "codemirror_mode": {
    "name": "ipython",
    "version": 3
   },
   "file_extension": ".py",
   "mimetype": "text/x-python",
   "name": "python",
   "nbconvert_exporter": "python",
   "pygments_lexer": "ipython3",
   "version": "3.10.6"
  }
 },
 "nbformat": 4,
 "nbformat_minor": 5
}
