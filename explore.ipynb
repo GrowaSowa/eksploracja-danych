{
 "cells": [
  {
   "cell_type": "code",
   "execution_count": null,
   "id": "9864b5b6",
   "metadata": {},
   "outputs": [],
   "source": [
    "# download_stopwords()\n",
    "# download_lemmatizer()\n"
   ]
  },
  {
   "cell_type": "code",
   "execution_count": 7,
   "id": "940e9896",
   "metadata": {},
   "outputs": [
    {
     "name": "stdout",
     "output_type": "stream",
     "text": [
      "9: 4607\n",
      "8: 5859\n",
      "10: 9731\n",
      "7: 4803\n",
      "3: 4961\n",
      "4: 5331\n",
      "1: 10122\n",
      "2: 4586\n"
     ]
    }
   ],
   "source": [
    "import os\n",
    "\n",
    "train_pos = [fname.split('.')[0] for fname in os.listdir('./data/aclImdb/train/pos')]\n",
    "test_pos = [fname.split('.')[0] for fname in os.listdir('./data/aclImdb/test/pos')]\n",
    "train_neg = [fname.split('.')[0] for fname in os.listdir('./data/aclImdb/train/neg')]\n",
    "test_neg = [fname.split('.')[0] for fname in os.listdir('./data/aclImdb/test/neg')]\n",
    "\n",
    "positive = train_pos\n",
    "positive.extend(test_pos)\n",
    "negative = train_neg\n",
    "negative.extend(test_neg)\n",
    "grades = [fname.split('_')[1] for fname in positive]\n",
    "grades.extend([fname.split('_')[1] for fname in negative])\n",
    "\n",
    "grade_cnt = {}\n",
    "for grade in grades:\n",
    "\tgrade_cnt[grade] = grade_cnt.get(grade, 0) + 1\n",
    "\n",
    "for key in grade_cnt.keys():\n",
    "\tprint(f\"{key}: {grade_cnt[key]}\")"
   ]
  },
  {
   "cell_type": "code",
   "execution_count": 2,
   "id": "5b69b224",
   "metadata": {},
   "outputs": [
    {
     "name": "stdout",
     "output_type": "stream",
     "text": [
      "NaiveBayes accuracy: 82.64% 10330/12500\n",
      "SVM accuracy: 87.848% 10981/12500\n",
      "loading: 661.2575903999386\n",
      "processing: 74.8712935000658s\n",
      "NB training: 3.0790324999252334s\n",
      "SVM training: 1.4196735000004992s\n"
     ]
    }
   ],
   "source": [
    "from main import main\n",
    "\n",
    "N = 25000\n",
    "N_UNIGRAMS = 2500\n",
    "\n",
    "TRAIN_SIZE = N*3//4\n",
    "TEST_SIZE = N//4\n",
    "\n",
    "# REPS = 5\n",
    "\n",
    "# for i in range(REPS):\n",
    "# \tprint(str(i+1)+\":\")\n",
    "# await main(N_UNIGRAMS, TRAIN_SIZE, TEST_SIZE, True, use_linear_svm=False)\n",
    "# print()\n",
    "await main(N_UNIGRAMS, TRAIN_SIZE, TEST_SIZE, True, use_linear_svm=True)"
   ]
  }
 ],
 "metadata": {
  "kernelspec": {
   "display_name": "Python 3",
   "language": "python",
   "name": "python3"
  },
  "language_info": {
   "codemirror_mode": {
    "name": "ipython",
    "version": 3
   },
   "file_extension": ".py",
   "mimetype": "text/x-python",
   "name": "python",
   "nbconvert_exporter": "python",
   "pygments_lexer": "ipython3",
   "version": "3.10.6"
  }
 },
 "nbformat": 4,
 "nbformat_minor": 5
}
